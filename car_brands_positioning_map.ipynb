{
 "cells": [
  {
   "cell_type": "code",
   "execution_count": 1,
   "metadata": {},
   "outputs": [],
   "source": [
    "import pandas as pd\n",
    "from database import Database\n",
    "import matplotlib.pyplot as plt\n",
    "import seaborn as sns\n",
    "\n",
    "\n",
    "def similarity_score(df1, df2):\n",
    "    \"\"\"\n",
    "    Input:\n",
    "    df1 must be the one with the brands to evaluate.\n",
    "    df2 must be the datafranme with the exemplars -environment or luxury\n",
    "    Output: dictionary with keys: brands and values: similarity perceptual score with a dimension\n",
    "    \"\"\"\n",
    "    if not (isinstance(df1, pd.core.frame.DataFrame) and isinstance(df2, pd.core.frame.DataFrame)):\n",
    "        raise ValueError(\"df1 and df2 must be two pandas dataframes!\")\n",
    "    output={}\n",
    "    total_followers=df2.followerid.count()\n",
    "    for car in df1.handle.unique():\n",
    "        score=0\n",
    "        car_followers=df1[df1['handle']==car]['followerid'].tolist()\n",
    "        for exemplar in df2.handle.unique():\n",
    "            ex_followers=df2[df2['handle']==exemplar]['followerid'].tolist()\n",
    "            weights=1/len(ex_followers) # weights of an exemplar are the inverse of total number of followers\n",
    "            # compute jaccard index\n",
    "            jaccard_index=len(set(car_followers).intersection(set(ex_followers)))/len(set(car_followers).union(set(ex_followers)))\n",
    "            score+=weights*jaccard_index # compute the score multiplying weigths and index\n",
    "        sps_score=score*total_followers # adjust score for total followers of the exemplars\n",
    "        if car not in output:\n",
    "            output[car]=sps_score\n",
    "    return output"
   ]
  },
  {
   "cell_type": "code",
   "execution_count": 2,
   "metadata": {
    "scrolled": true
   },
   "outputs": [
    {
     "data": {
      "text/html": [
       "<div>\n",
       "<style scoped>\n",
       "    .dataframe tbody tr th:only-of-type {\n",
       "        vertical-align: middle;\n",
       "    }\n",
       "\n",
       "    .dataframe tbody tr th {\n",
       "        vertical-align: top;\n",
       "    }\n",
       "\n",
       "    .dataframe thead th {\n",
       "        text-align: right;\n",
       "    }\n",
       "</style>\n",
       "<table border=\"1\" class=\"dataframe\">\n",
       "  <thead>\n",
       "    <tr style=\"text-align: right;\">\n",
       "      <th></th>\n",
       "      <th>handle</th>\n",
       "      <th>followerid</th>\n",
       "    </tr>\n",
       "  </thead>\n",
       "  <tbody>\n",
       "    <tr>\n",
       "      <th>0</th>\n",
       "      <td>TeslaMotors</td>\n",
       "      <td>3114668085</td>\n",
       "    </tr>\n",
       "    <tr>\n",
       "      <th>1</th>\n",
       "      <td>TeslaMotors</td>\n",
       "      <td>287591015</td>\n",
       "    </tr>\n",
       "    <tr>\n",
       "      <th>2</th>\n",
       "      <td>TeslaMotors</td>\n",
       "      <td>428855888</td>\n",
       "    </tr>\n",
       "    <tr>\n",
       "      <th>3</th>\n",
       "      <td>TeslaMotors</td>\n",
       "      <td>109270688</td>\n",
       "    </tr>\n",
       "    <tr>\n",
       "      <th>4</th>\n",
       "      <td>TeslaMotors</td>\n",
       "      <td>704964056076185600</td>\n",
       "    </tr>\n",
       "  </tbody>\n",
       "</table>\n",
       "</div>"
      ],
      "text/plain": [
       "        handle          followerid\n",
       "0  TeslaMotors          3114668085\n",
       "1  TeslaMotors           287591015\n",
       "2  TeslaMotors           428855888\n",
       "3  TeslaMotors           109270688\n",
       "4  TeslaMotors  704964056076185600"
      ]
     },
     "execution_count": 2,
     "metadata": {},
     "output_type": "execute_result"
    }
   ],
   "source": [
    "db=Database(\"maps2019.db\")\n",
    "df = db.query(\"SELECT * FROM followers\")\n",
    "df.head()"
   ]
  },
  {
   "cell_type": "code",
   "execution_count": 3,
   "metadata": {},
   "outputs": [],
   "source": [
    "brands = ['Chrysler', 'smartcarusa', 'RollsRoyce', 'volvocars', 'MINI', 'TeslaMotors']\n",
    "env = ['guardianeco', 'UNEP', 'Greenpeace', 'nature_org', 'HuffPostGreen', 'EnvAgency', 'YaleE360']\n",
    "luxury = ['Luxuo', 'LuxurySociety']\n",
    "\n",
    "df_brands = df[df['handle'].isin(brands)]\n",
    "df_env = df[df['handle'].isin(env)]\n",
    "df_luxury = df[df['handle'].isin(luxury)]"
   ]
  },
  {
   "cell_type": "code",
   "execution_count": 4,
   "metadata": {
    "scrolled": true
   },
   "outputs": [],
   "source": [
    "env_score=similarity_score(df_brands, df_env)\n",
    "lux_score=similarity_score(df_brands, df_luxury)"
   ]
  },
  {
   "cell_type": "code",
   "execution_count": 5,
   "metadata": {
    "scrolled": true
   },
   "outputs": [],
   "source": [
    "final = pd.DataFrame(data=env_score.values(), index=env_score.keys()).rename(columns={0:\"Environmental Score\"}).merge(\n",
    "pd.DataFrame(data=lux_score.values(), index=lux_score.keys()).rename(columns={0:\"Luxury Score\"}), left_index=True, right_index=True)\\\n",
    ".reset_index().rename(columns={'index':'Car Brand'})"
   ]
  },
  {
   "cell_type": "code",
   "execution_count": 6,
   "metadata": {
    "scrolled": false
   },
   "outputs": [
    {
     "data": {
      "text/html": [
       "<div>\n",
       "<style scoped>\n",
       "    .dataframe tbody tr th:only-of-type {\n",
       "        vertical-align: middle;\n",
       "    }\n",
       "\n",
       "    .dataframe tbody tr th {\n",
       "        vertical-align: top;\n",
       "    }\n",
       "\n",
       "    .dataframe thead th {\n",
       "        text-align: right;\n",
       "    }\n",
       "</style>\n",
       "<table border=\"1\" class=\"dataframe\">\n",
       "  <thead>\n",
       "    <tr style=\"text-align: right;\">\n",
       "      <th></th>\n",
       "      <th>Car Brand</th>\n",
       "      <th>Environmental Score</th>\n",
       "      <th>Luxury Score</th>\n",
       "    </tr>\n",
       "  </thead>\n",
       "  <tbody>\n",
       "    <tr>\n",
       "      <th>0</th>\n",
       "      <td>TeslaMotors</td>\n",
       "      <td>0.761082</td>\n",
       "      <td>0.017248</td>\n",
       "    </tr>\n",
       "    <tr>\n",
       "      <th>1</th>\n",
       "      <td>Chrysler</td>\n",
       "      <td>0.360272</td>\n",
       "      <td>0.022680</td>\n",
       "    </tr>\n",
       "    <tr>\n",
       "      <th>2</th>\n",
       "      <td>smartcarusa</td>\n",
       "      <td>0.493440</td>\n",
       "      <td>0.005971</td>\n",
       "    </tr>\n",
       "    <tr>\n",
       "      <th>3</th>\n",
       "      <td>RollsRoyce</td>\n",
       "      <td>0.483141</td>\n",
       "      <td>0.042214</td>\n",
       "    </tr>\n",
       "    <tr>\n",
       "      <th>4</th>\n",
       "      <td>volvocars</td>\n",
       "      <td>0.275358</td>\n",
       "      <td>0.018319</td>\n",
       "    </tr>\n",
       "    <tr>\n",
       "      <th>5</th>\n",
       "      <td>MINI</td>\n",
       "      <td>0.218515</td>\n",
       "      <td>0.025069</td>\n",
       "    </tr>\n",
       "  </tbody>\n",
       "</table>\n",
       "</div>"
      ],
      "text/plain": [
       "     Car Brand  Environmental Score  Luxury Score\n",
       "0  TeslaMotors             0.761082      0.017248\n",
       "1     Chrysler             0.360272      0.022680\n",
       "2  smartcarusa             0.493440      0.005971\n",
       "3   RollsRoyce             0.483141      0.042214\n",
       "4    volvocars             0.275358      0.018319\n",
       "5         MINI             0.218515      0.025069"
      ]
     },
     "execution_count": 6,
     "metadata": {},
     "output_type": "execute_result"
    }
   ],
   "source": [
    "final"
   ]
  },
  {
   "cell_type": "code",
   "execution_count": 7,
   "metadata": {
    "scrolled": false
   },
   "outputs": [
    {
     "data": {
      "image/png": "[encoded data removed]",
      "text/plain": [
       "<Figure size 720x720 with 1 Axes>"
      ]
     },
     "metadata": {
      "needs_background": "light"
     },
     "output_type": "display_data"
    }
   ],
   "source": [
    "sns.set_context(font_scale=.5)\n",
    "plt.figure(figsize=(10,10))\n",
    "plt.title(\"Car Brands Positioning Map\", size=20)\n",
    "sns.scatterplot(\"Luxury Score\", \"Environmental Score\", data = final, marker = \"o\", color = \"red\", s=100)\n",
    "plt.xlim(right = 0.05)\n",
    "plt.xlim(left = 0)\n",
    "plt.ylim((0, 1))\n",
    "plt.ylabel(\"Environmental Score\", size=15)\n",
    "plt.xlabel(\"Luxury Score\", size=15)\n",
    "plt.hlines(0.5, 0, 1, linestyles=\"dotted\")\n",
    "plt.vlines(0.025, 0, 1, linestyles=\"dotted\")\n",
    "\n",
    "c = -1\n",
    "for i in final['Car Brand'].tolist():\n",
    "    c += 1\n",
    "    if i=='smartcarusa':\n",
    "        i='Smart'\n",
    "    elif i=='volvocars':\n",
    "        i='Volvo'\n",
    "    plt.annotate(s=i,\n",
    "                 xy=(final[\"Luxury Score\"].loc[c], final[\"Environmental Score\"].loc[c]),\n",
    "                xytext=(final[\"Luxury Score\"].loc[c]+.0005, final[\"Environmental Score\"].loc[c]-.03), size=15)"
   ]
  }
 ],
 "metadata": {
  "kernelspec": {
   "display_name": "Python 3",
   "language": "python",
   "name": "python3"
  },
  "language_info": {
   "codemirror_mode": {
    "name": "ipython",
    "version": 3
   },
   "file_extension": ".py",
   "mimetype": "text/x-python",
   "name": "python",
   "nbconvert_exporter": "python",
   "pygments_lexer": "ipython3",
   "version": "3.7.3"
  }
 },
 "nbformat": 4,
 "nbformat_minor": 2
}
